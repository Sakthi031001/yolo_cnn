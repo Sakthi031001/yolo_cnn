{
 "cells": [
  {
   "cell_type": "code",
   "execution_count": 12,
   "metadata": {},
   "outputs": [],
   "source": [
    "import os\n",
    "import cv2\n",
    "import yaml\n",
    "\n",
    "from tqdm import tqdm"
   ]
  },
  {
   "cell_type": "code",
   "execution_count": 2,
   "metadata": {},
   "outputs": [],
   "source": [
    "# Load class names from data.yaml file\n",
    "def load_classes_from_yaml(yaml_path):\n",
    "    with open(yaml_path, 'r') as file:\n",
    "        data = yaml.safe_load(file)\n",
    "    return data['names']"
   ]
  },
  {
   "cell_type": "code",
   "execution_count": 3,
   "metadata": {},
   "outputs": [],
   "source": [
    "# Create output directories for each class\n",
    "def create_class_directories(classes, output_dir):\n",
    "    for cls in classes:\n",
    "        class_dir = os.path.join(output_dir, cls)\n",
    "        os.makedirs(class_dir, exist_ok=True)"
   ]
  },
  {
   "cell_type": "code",
   "execution_count": 4,
   "metadata": {},
   "outputs": [],
   "source": [
    "# Parse YOLO annotation file\n",
    "def parse_annotation_file(annotation_file):\n",
    "    with open(annotation_file, 'r') as file:\n",
    "        lines = file.readlines()\n",
    "    annotations = []\n",
    "    for line in lines:\n",
    "        line = line.strip().split()\n",
    "        class_id = line[0]\n",
    "        bbox = [float(x) for x in line[1:]]\n",
    "        annotations.append((class_id, bbox))\n",
    "    return annotations"
   ]
  },
  {
   "cell_type": "code",
   "execution_count": 10,
   "metadata": {},
   "outputs": [],
   "source": [
    "def extract_and_save(image_path, annotations, classes, output_dir):\n",
    "    image = cv2.imread(image_path)\n",
    "    if image is None:\n",
    "        print(f\"Image not found or failed to load: {image_path}\")\n",
    "        return\n",
    "    \n",
    "    h, w, _ = image.shape\n",
    "    \n",
    "    for class_id, bbox in annotations:\n",
    "        class_name = classes[int(class_id)]\n",
    "        \n",
    "        # YOLO format: (center_x, center_y, width, height) - normalized\n",
    "        center_x, center_y, box_w, box_h = bbox\n",
    "        x1 = max(0, int((center_x - box_w / 2) * w))\n",
    "        y1 = max(0, int((center_y - box_h / 2) * h))\n",
    "        x2 = min(w, int((center_x + box_w / 2) * w))\n",
    "        y2 = min(h, int((center_y + box_h / 2) * h))\n",
    "        \n",
    "        # Crop image\n",
    "        cropped_img = image[y1:y2, x1:x2]\n",
    "        \n",
    "        # Check if the cropped image is empty\n",
    "        if cropped_img.size == 0:\n",
    "            print(f\"Empty crop for class {class_name} in image {image_path}. Skipping...\")\n",
    "            continue\n",
    "        \n",
    "        # Save cropped image to corresponding class folder\n",
    "        class_folder = os.path.join(output_dir, class_name)\n",
    "        file_name = os.path.basename(image_path)\n",
    "        output_path = os.path.join(class_folder, file_name)\n",
    "        \n",
    "        # Save the cropped image\n",
    "        cv2.imwrite(output_path, cropped_img)\n"
   ]
  },
  {
   "cell_type": "code",
   "execution_count": 13,
   "metadata": {},
   "outputs": [],
   "source": [
    "# Main processing function\n",
    "def process_dataset(images_dir, annotations_dir, classes, output_dir):\n",
    "    create_class_directories(classes, output_dir)\n",
    "    \n",
    "    for annotation_file in tqdm(os.listdir(annotations_dir)):\n",
    "        if annotation_file.endswith('.txt'):\n",
    "            image_file = annotation_file.replace('.txt', '.jpg')  # adjust if your images are in a different format\n",
    "            image_path = os.path.join(images_dir, image_file)\n",
    "            annotation_path = os.path.join(annotations_dir, annotation_file)\n",
    "            \n",
    "            annotations = parse_annotation_file(annotation_path)\n",
    "            extract_and_save(image_path, annotations, classes, output_dir)"
   ]
  },
  {
   "cell_type": "markdown",
   "metadata": {},
   "source": [
    "# Train dataset preparation"
   ]
  },
  {
   "cell_type": "code",
   "execution_count": 7,
   "metadata": {},
   "outputs": [],
   "source": [
    "# Set paths to your image and annotation directories\n",
    "images_dir = r'Dataset-10/train/images'\n",
    "annotations_dir = r'Dataset-10/train/labels'\n",
    "output_dir = r'classification_dataset/train'\n",
    "yaml_path = r'Dataset-10/data.yaml'"
   ]
  },
  {
   "cell_type": "code",
   "execution_count": 14,
   "metadata": {},
   "outputs": [
    {
     "name": "stderr",
     "output_type": "stream",
     "text": [
      "  6%|▋         | 333/5219 [01:25<02:59, 27.28it/s]"
     ]
    },
    {
     "name": "stdout",
     "output_type": "stream",
     "text": [
      "Empty crop for class Building in image Dataset-10/train/images\\D_1000221_png.rf.99046a5d120056f0ab9008bc2a10ca36.jpg. Skipping...\n"
     ]
    },
    {
     "name": "stderr",
     "output_type": "stream",
     "text": [
      "100%|██████████| 5219/5219 [06:51<00:00, 12.68it/s]\n"
     ]
    }
   ],
   "source": [
    "# Load classes from YAML file\n",
    "classes = load_classes_from_yaml(yaml_path)\n",
    "\n",
    "# Run the script\n",
    "process_dataset(images_dir, annotations_dir, classes, output_dir)"
   ]
  },
  {
   "cell_type": "code",
   "execution_count": null,
   "metadata": {},
   "outputs": [],
   "source": []
  },
  {
   "cell_type": "markdown",
   "metadata": {},
   "source": [
    "# Validation dataset preparation"
   ]
  },
  {
   "cell_type": "code",
   "execution_count": 15,
   "metadata": {},
   "outputs": [],
   "source": [
    "# Set paths to your image and annotation directories\n",
    "images_dir = r'Dataset-10/valid/images'\n",
    "annotations_dir = r'Dataset-10/valid/labels'\n",
    "output_dir = r'classification_dataset/valid'\n",
    "yaml_path = r'Dataset-10/data.yaml'"
   ]
  },
  {
   "cell_type": "code",
   "execution_count": 16,
   "metadata": {},
   "outputs": [
    {
     "name": "stderr",
     "output_type": "stream",
     "text": [
      "100%|██████████| 1281/1281 [02:32<00:00,  8.41it/s]\n"
     ]
    }
   ],
   "source": [
    "# Load classes from YAML file\n",
    "classes = load_classes_from_yaml(yaml_path)\n",
    "\n",
    "# Run the script\n",
    "process_dataset(images_dir, annotations_dir, classes, output_dir)"
   ]
  },
  {
   "cell_type": "code",
   "execution_count": null,
   "metadata": {},
   "outputs": [],
   "source": []
  }
 ],
 "metadata": {
  "kernelspec": {
   "display_name": "base",
   "language": "python",
   "name": "python3"
  },
  "language_info": {
   "codemirror_mode": {
    "name": "ipython",
    "version": 3
   },
   "file_extension": ".py",
   "mimetype": "text/x-python",
   "name": "python",
   "nbconvert_exporter": "python",
   "pygments_lexer": "ipython3",
   "version": "3.11.9"
  }
 },
 "nbformat": 4,
 "nbformat_minor": 2
}
